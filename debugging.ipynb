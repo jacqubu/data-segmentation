{
 "cells": [
  {
   "cell_type": "code",
   "execution_count": 13,
   "metadata": {},
   "outputs": [],
   "source": [
    "import detectevent"
   ]
  },
  {
   "cell_type": "code",
   "execution_count": 17,
   "metadata": {},
   "outputs": [
    {
     "ename": "ImportError",
     "evalue": "cannot import name 'DetectEvent' from 'detectevent' (/Users/jacquelinebuford/Documents/cee575/data-segmentation/detectevent/__init__.py)",
     "output_type": "error",
     "traceback": [
      "\u001b[31m---------------------------------------------------------------------------\u001b[39m",
      "\u001b[31mImportError\u001b[39m                               Traceback (most recent call last)",
      "\u001b[36mCell\u001b[39m\u001b[36m \u001b[39m\u001b[32mIn[17]\u001b[39m\u001b[32m, line 1\u001b[39m\n\u001b[32m----> \u001b[39m\u001b[32m1\u001b[39m \u001b[38;5;28;01mfrom\u001b[39;00m\u001b[38;5;250m \u001b[39m\u001b[34;01mdetectevent\u001b[39;00m\u001b[38;5;250m \u001b[39m\u001b[38;5;28;01mimport\u001b[39;00m DetectEvent\n",
      "\u001b[31mImportError\u001b[39m: cannot import name 'DetectEvent' from 'detectevent' (/Users/jacquelinebuford/Documents/cee575/data-segmentation/detectevent/__init__.py)"
     ]
    }
   ],
   "source": [
    "from detectevent import DetectEvent"
   ]
  },
  {
   "cell_type": "code",
   "execution_count": 18,
   "metadata": {},
   "outputs": [
    {
     "ename": "AttributeError",
     "evalue": "module 'detectevent' has no attribute 'DetectEvent'",
     "output_type": "error",
     "traceback": [
      "\u001b[31m---------------------------------------------------------------------------\u001b[39m",
      "\u001b[31mAttributeError\u001b[39m                            Traceback (most recent call last)",
      "\u001b[36mCell\u001b[39m\u001b[36m \u001b[39m\u001b[32mIn[18]\u001b[39m\u001b[32m, line 1\u001b[39m\n\u001b[32m----> \u001b[39m\u001b[32m1\u001b[39m detector = \u001b[43mdetectevent\u001b[49m\u001b[43m.\u001b[49m\u001b[43mDetectEvent\u001b[49m()\n",
      "\u001b[31mAttributeError\u001b[39m: module 'detectevent' has no attribute 'DetectEvent'"
     ]
    }
   ],
   "source": [
    "detector = detectevent.DetectEvent()"
   ]
  },
  {
   "cell_type": "code",
   "execution_count": 21,
   "metadata": {},
   "outputs": [
    {
     "ename": "ImportError",
     "evalue": "cannot import name 'DetectEvent' from 'detectevent' (/Users/jacquelinebuford/Documents/cee575/data-segmentation/detectevent/__init__.py)",
     "output_type": "error",
     "traceback": [
      "\u001b[31m---------------------------------------------------------------------------\u001b[39m",
      "\u001b[31mImportError\u001b[39m                               Traceback (most recent call last)",
      "\u001b[36mCell\u001b[39m\u001b[36m \u001b[39m\u001b[32mIn[21]\u001b[39m\u001b[32m, line 10\u001b[39m\n\u001b[32m      7\u001b[39m sys.path.append(package_parent_dir)\n\u001b[32m      9\u001b[39m \u001b[38;5;66;03m# Now try importing\u001b[39;00m\n\u001b[32m---> \u001b[39m\u001b[32m10\u001b[39m \u001b[38;5;28;01mfrom\u001b[39;00m\u001b[38;5;250m \u001b[39m\u001b[34;01mdetectevent\u001b[39;00m\u001b[38;5;250m \u001b[39m\u001b[38;5;28;01mimport\u001b[39;00m DetectEvent\n",
      "\u001b[31mImportError\u001b[39m: cannot import name 'DetectEvent' from 'detectevent' (/Users/jacquelinebuford/Documents/cee575/data-segmentation/detectevent/__init__.py)"
     ]
    }
   ],
   "source": [
    "import sys\n",
    "import os\n",
    "\n",
    "# Add the directory containing your package to Python's path\n",
    "# Replace with the actual path to the directory containing your package\n",
    "package_parent_dir = \"/detectevent/\"\n",
    "sys.path.append(package_parent_dir)\n",
    "\n",
    "# Now try importing\n",
    "from detectevent import DetectEvent"
   ]
  },
  {
   "cell_type": "code",
   "execution_count": null,
   "metadata": {},
   "outputs": [],
   "source": [
    "\n",
    "\n",
    "# Load data - adjust the file path and column names to match your CSV\n",
    "data = detector.load_data(\"usgs_gage_data.csv\",\n",
    "                            time_column=\"datetime\",\n",
    "                            value_column=\"gage_height\",\n",
    "                            date_format=\"%Y-%m-%d %H:%M:%S\")\n",
    "\n",
    "# Detect events using a simple threshold approach\n",
    "events = detector.detect_events_threshold(threshold=10.0,  # adjust threshold based on your data\n",
    "                                        min_duration=30,   # minimum 30 minutes\n",
    "                                        rise_rate=0.5)     # 0.5 feet per hour rise rate\n",
    "\n",
    "# Alternatively, detect events using moving average approach\n",
    "# events = detector.detect_events_moving_average(window_size=48,  # 48 data points\n",
    "#                                              std_factor=2.5,   # 2.5 standard deviations\n",
    "#                                              min_duration=30)  # minimum 30 minutes\n",
    "\n",
    "# Visualize the results\n",
    "detector.visualize_events(events, title=\"USGS Gage Height Events\")"
   ]
  }
 ],
 "metadata": {
  "kernelspec": {
   "display_name": "env",
   "language": "python",
   "name": "python3"
  },
  "language_info": {
   "codemirror_mode": {
    "name": "ipython",
    "version": 3
   },
   "file_extension": ".py",
   "mimetype": "text/x-python",
   "name": "python",
   "nbconvert_exporter": "python",
   "pygments_lexer": "ipython3",
   "version": "3.11.11"
  }
 },
 "nbformat": 4,
 "nbformat_minor": 2
}
